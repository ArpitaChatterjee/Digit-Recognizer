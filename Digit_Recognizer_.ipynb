{
  "nbformat": 4,
  "nbformat_minor": 0,
  "metadata": {
    "colab": {
      "name": "Digit Recognizer .ipynb",
      "provenance": [],
      "collapsed_sections": [],
      "mount_file_id": "1DbcxwRbngALJxu1Y5LtmfW9vLPMsoSQS",
      "authorship_tag": "ABX9TyMO9P5Kw8pOrXsEuxzRNw2K",
      "include_colab_link": true
    },
    "kernelspec": {
      "name": "python3",
      "display_name": "Python 3"
    },
    "accelerator": "GPU"
  },
  "cells": [
    {
      "cell_type": "markdown",
      "metadata": {
        "id": "view-in-github",
        "colab_type": "text"
      },
      "source": [
        "<a href=\"https://colab.research.google.com/github/ArpitaChatterjee/Digit-Recognizer/blob/main/Digit_Recognizer_.ipynb\" target=\"_parent\"><img src=\"https://colab.research.google.com/assets/colab-badge.svg\" alt=\"Open In Colab\"/></a>"
      ]
    },
    {
      "cell_type": "markdown",
      "metadata": {
        "id": "TIG_jDGLodCe"
      },
      "source": [
        "**Import Libraries**"
      ]
    },
    {
      "cell_type": "code",
      "metadata": {
        "id": "CGebEGrHST9L"
      },
      "source": [
        "import numpy as np\r\n",
        "import pandas as pd\r\n",
        "import matplotlib.pyplot as plt\r\n",
        "import seaborn as sns\r\n",
        "import warnings\r\n",
        "\r\n",
        "%matplotlib inline\r\n",
        "warnings.simplefilter(action= 'ignore')\r\n",
        "plt.style.use('seaborn')\r\n",
        "\r\n",
        "from sklearn.model_selection import train_test_split\r\n",
        "\r\n",
        "from keras.preprocessing.image import ImageDataGenerator\r\n",
        "from keras.utils import to_categorical\r\n",
        "\r\n",
        "from keras.models import Sequential, load_model\r\n",
        "from keras.layers import Dense, Dropout, Flatten\r\n",
        "from keras.layers import Conv2D, MaxPooling2D, BatchNormalization\r\n",
        "from keras.optimizers import Adam\r\n",
        "\r\n",
        "from keras.callbacks import LearningRateScheduler\r\n",
        "from keras.callbacks import EarlyStopping"
      ],
      "execution_count": 1,
      "outputs": []
    },
    {
      "cell_type": "markdown",
      "metadata": {
        "id": "nygClmCzpvtk"
      },
      "source": [
        "**Loading Dataset**"
      ]
    },
    {
      "cell_type": "code",
      "metadata": {
        "id": "VaGQNRpdppjO"
      },
      "source": [
        "train = pd.read_csv('/content/drive/MyDrive/Colab Notebooks/Digit Recognizer/train.csv')\r\n",
        "test = pd.read_csv('/content/drive/MyDrive/Colab Notebooks/Digit Recognizer/test.csv')\r\n",
        "df_train = train.copy()\r\n",
        "df_test = test.copy()"
      ],
      "execution_count": 2,
      "outputs": []
    },
    {
      "cell_type": "code",
      "metadata": {
        "colab": {
          "base_uri": "https://localhost:8080/",
          "height": 343
        },
        "id": "9qEmi5Sfpysq",
        "outputId": "a7682352-dcb7-4e81-eca0-b3a6e9ba3cdc"
      },
      "source": [
        "df_train.describe()"
      ],
      "execution_count": 3,
      "outputs": [
        {
          "output_type": "execute_result",
          "data": {
            "text/html": [
              "<div>\n",
              "<style scoped>\n",
              "    .dataframe tbody tr th:only-of-type {\n",
              "        vertical-align: middle;\n",
              "    }\n",
              "\n",
              "    .dataframe tbody tr th {\n",
              "        vertical-align: top;\n",
              "    }\n",
              "\n",
              "    .dataframe thead th {\n",
              "        text-align: right;\n",
              "    }\n",
              "</style>\n",
              "<table border=\"1\" class=\"dataframe\">\n",
              "  <thead>\n",
              "    <tr style=\"text-align: right;\">\n",
              "      <th></th>\n",
              "      <th>label</th>\n",
              "      <th>pixel0</th>\n",
              "      <th>pixel1</th>\n",
              "      <th>pixel2</th>\n",
              "      <th>pixel3</th>\n",
              "      <th>pixel4</th>\n",
              "      <th>pixel5</th>\n",
              "      <th>pixel6</th>\n",
              "      <th>pixel7</th>\n",
              "      <th>pixel8</th>\n",
              "      <th>pixel9</th>\n",
              "      <th>pixel10</th>\n",
              "      <th>pixel11</th>\n",
              "      <th>pixel12</th>\n",
              "      <th>pixel13</th>\n",
              "      <th>pixel14</th>\n",
              "      <th>pixel15</th>\n",
              "      <th>pixel16</th>\n",
              "      <th>pixel17</th>\n",
              "      <th>pixel18</th>\n",
              "      <th>pixel19</th>\n",
              "      <th>pixel20</th>\n",
              "      <th>pixel21</th>\n",
              "      <th>pixel22</th>\n",
              "      <th>pixel23</th>\n",
              "      <th>pixel24</th>\n",
              "      <th>pixel25</th>\n",
              "      <th>pixel26</th>\n",
              "      <th>pixel27</th>\n",
              "      <th>pixel28</th>\n",
              "      <th>pixel29</th>\n",
              "      <th>pixel30</th>\n",
              "      <th>pixel31</th>\n",
              "      <th>pixel32</th>\n",
              "      <th>pixel33</th>\n",
              "      <th>pixel34</th>\n",
              "      <th>pixel35</th>\n",
              "      <th>pixel36</th>\n",
              "      <th>pixel37</th>\n",
              "      <th>pixel38</th>\n",
              "      <th>...</th>\n",
              "      <th>pixel744</th>\n",
              "      <th>pixel745</th>\n",
              "      <th>pixel746</th>\n",
              "      <th>pixel747</th>\n",
              "      <th>pixel748</th>\n",
              "      <th>pixel749</th>\n",
              "      <th>pixel750</th>\n",
              "      <th>pixel751</th>\n",
              "      <th>pixel752</th>\n",
              "      <th>pixel753</th>\n",
              "      <th>pixel754</th>\n",
              "      <th>pixel755</th>\n",
              "      <th>pixel756</th>\n",
              "      <th>pixel757</th>\n",
              "      <th>pixel758</th>\n",
              "      <th>pixel759</th>\n",
              "      <th>pixel760</th>\n",
              "      <th>pixel761</th>\n",
              "      <th>pixel762</th>\n",
              "      <th>pixel763</th>\n",
              "      <th>pixel764</th>\n",
              "      <th>pixel765</th>\n",
              "      <th>pixel766</th>\n",
              "      <th>pixel767</th>\n",
              "      <th>pixel768</th>\n",
              "      <th>pixel769</th>\n",
              "      <th>pixel770</th>\n",
              "      <th>pixel771</th>\n",
              "      <th>pixel772</th>\n",
              "      <th>pixel773</th>\n",
              "      <th>pixel774</th>\n",
              "      <th>pixel775</th>\n",
              "      <th>pixel776</th>\n",
              "      <th>pixel777</th>\n",
              "      <th>pixel778</th>\n",
              "      <th>pixel779</th>\n",
              "      <th>pixel780</th>\n",
              "      <th>pixel781</th>\n",
              "      <th>pixel782</th>\n",
              "      <th>pixel783</th>\n",
              "    </tr>\n",
              "  </thead>\n",
              "  <tbody>\n",
              "    <tr>\n",
              "      <th>count</th>\n",
              "      <td>42000.000000</td>\n",
              "      <td>42000.0</td>\n",
              "      <td>42000.0</td>\n",
              "      <td>42000.0</td>\n",
              "      <td>42000.0</td>\n",
              "      <td>42000.0</td>\n",
              "      <td>42000.0</td>\n",
              "      <td>42000.0</td>\n",
              "      <td>42000.0</td>\n",
              "      <td>42000.0</td>\n",
              "      <td>42000.0</td>\n",
              "      <td>42000.0</td>\n",
              "      <td>42000.0</td>\n",
              "      <td>42000.00000</td>\n",
              "      <td>42000.000000</td>\n",
              "      <td>42000.000000</td>\n",
              "      <td>42000.000000</td>\n",
              "      <td>42000.0</td>\n",
              "      <td>42000.0</td>\n",
              "      <td>42000.0</td>\n",
              "      <td>42000.0</td>\n",
              "      <td>42000.0</td>\n",
              "      <td>42000.0</td>\n",
              "      <td>42000.0</td>\n",
              "      <td>42000.0</td>\n",
              "      <td>42000.0</td>\n",
              "      <td>42000.0</td>\n",
              "      <td>42000.0</td>\n",
              "      <td>42000.0</td>\n",
              "      <td>42000.0</td>\n",
              "      <td>42000.0</td>\n",
              "      <td>42000.0</td>\n",
              "      <td>42000.0</td>\n",
              "      <td>42000.000000</td>\n",
              "      <td>42000.000000</td>\n",
              "      <td>42000.000000</td>\n",
              "      <td>42000.000000</td>\n",
              "      <td>42000.000000</td>\n",
              "      <td>42000.000000</td>\n",
              "      <td>42000.000000</td>\n",
              "      <td>...</td>\n",
              "      <td>42000.000000</td>\n",
              "      <td>42000.000000</td>\n",
              "      <td>42000.000000</td>\n",
              "      <td>42000.000000</td>\n",
              "      <td>42000.000000</td>\n",
              "      <td>42000.000000</td>\n",
              "      <td>42000.000000</td>\n",
              "      <td>42000.000000</td>\n",
              "      <td>42000.000000</td>\n",
              "      <td>42000.000000</td>\n",
              "      <td>42000.0</td>\n",
              "      <td>42000.0</td>\n",
              "      <td>42000.0</td>\n",
              "      <td>42000.0</td>\n",
              "      <td>42000.0</td>\n",
              "      <td>42000.0</td>\n",
              "      <td>42000.0</td>\n",
              "      <td>42000.000000</td>\n",
              "      <td>42000.000000</td>\n",
              "      <td>42000.000000</td>\n",
              "      <td>42000.000000</td>\n",
              "      <td>42000.000000</td>\n",
              "      <td>42000.000000</td>\n",
              "      <td>42000.000000</td>\n",
              "      <td>42000.000000</td>\n",
              "      <td>42000.000000</td>\n",
              "      <td>42000.000000</td>\n",
              "      <td>42000.00000</td>\n",
              "      <td>42000.000000</td>\n",
              "      <td>42000.000000</td>\n",
              "      <td>42000.000000</td>\n",
              "      <td>42000.000000</td>\n",
              "      <td>42000.000000</td>\n",
              "      <td>42000.00000</td>\n",
              "      <td>42000.000000</td>\n",
              "      <td>42000.000000</td>\n",
              "      <td>42000.0</td>\n",
              "      <td>42000.0</td>\n",
              "      <td>42000.0</td>\n",
              "      <td>42000.0</td>\n",
              "    </tr>\n",
              "    <tr>\n",
              "      <th>mean</th>\n",
              "      <td>4.456643</td>\n",
              "      <td>0.0</td>\n",
              "      <td>0.0</td>\n",
              "      <td>0.0</td>\n",
              "      <td>0.0</td>\n",
              "      <td>0.0</td>\n",
              "      <td>0.0</td>\n",
              "      <td>0.0</td>\n",
              "      <td>0.0</td>\n",
              "      <td>0.0</td>\n",
              "      <td>0.0</td>\n",
              "      <td>0.0</td>\n",
              "      <td>0.0</td>\n",
              "      <td>0.00300</td>\n",
              "      <td>0.011190</td>\n",
              "      <td>0.005143</td>\n",
              "      <td>0.000214</td>\n",
              "      <td>0.0</td>\n",
              "      <td>0.0</td>\n",
              "      <td>0.0</td>\n",
              "      <td>0.0</td>\n",
              "      <td>0.0</td>\n",
              "      <td>0.0</td>\n",
              "      <td>0.0</td>\n",
              "      <td>0.0</td>\n",
              "      <td>0.0</td>\n",
              "      <td>0.0</td>\n",
              "      <td>0.0</td>\n",
              "      <td>0.0</td>\n",
              "      <td>0.0</td>\n",
              "      <td>0.0</td>\n",
              "      <td>0.0</td>\n",
              "      <td>0.0</td>\n",
              "      <td>0.000381</td>\n",
              "      <td>0.001310</td>\n",
              "      <td>0.010548</td>\n",
              "      <td>0.027262</td>\n",
              "      <td>0.050905</td>\n",
              "      <td>0.066405</td>\n",
              "      <td>0.129571</td>\n",
              "      <td>...</td>\n",
              "      <td>3.772524</td>\n",
              "      <td>2.748905</td>\n",
              "      <td>1.796452</td>\n",
              "      <td>1.089905</td>\n",
              "      <td>0.563190</td>\n",
              "      <td>0.239571</td>\n",
              "      <td>0.093524</td>\n",
              "      <td>0.024833</td>\n",
              "      <td>0.000857</td>\n",
              "      <td>0.001405</td>\n",
              "      <td>0.0</td>\n",
              "      <td>0.0</td>\n",
              "      <td>0.0</td>\n",
              "      <td>0.0</td>\n",
              "      <td>0.0</td>\n",
              "      <td>0.0</td>\n",
              "      <td>0.0</td>\n",
              "      <td>0.006143</td>\n",
              "      <td>0.035833</td>\n",
              "      <td>0.082357</td>\n",
              "      <td>0.114905</td>\n",
              "      <td>0.178714</td>\n",
              "      <td>0.301452</td>\n",
              "      <td>0.413643</td>\n",
              "      <td>0.513667</td>\n",
              "      <td>0.558833</td>\n",
              "      <td>0.677857</td>\n",
              "      <td>0.60281</td>\n",
              "      <td>0.489238</td>\n",
              "      <td>0.340214</td>\n",
              "      <td>0.219286</td>\n",
              "      <td>0.117095</td>\n",
              "      <td>0.059024</td>\n",
              "      <td>0.02019</td>\n",
              "      <td>0.017238</td>\n",
              "      <td>0.002857</td>\n",
              "      <td>0.0</td>\n",
              "      <td>0.0</td>\n",
              "      <td>0.0</td>\n",
              "      <td>0.0</td>\n",
              "    </tr>\n",
              "    <tr>\n",
              "      <th>std</th>\n",
              "      <td>2.887730</td>\n",
              "      <td>0.0</td>\n",
              "      <td>0.0</td>\n",
              "      <td>0.0</td>\n",
              "      <td>0.0</td>\n",
              "      <td>0.0</td>\n",
              "      <td>0.0</td>\n",
              "      <td>0.0</td>\n",
              "      <td>0.0</td>\n",
              "      <td>0.0</td>\n",
              "      <td>0.0</td>\n",
              "      <td>0.0</td>\n",
              "      <td>0.0</td>\n",
              "      <td>0.56812</td>\n",
              "      <td>1.626927</td>\n",
              "      <td>1.053972</td>\n",
              "      <td>0.043916</td>\n",
              "      <td>0.0</td>\n",
              "      <td>0.0</td>\n",
              "      <td>0.0</td>\n",
              "      <td>0.0</td>\n",
              "      <td>0.0</td>\n",
              "      <td>0.0</td>\n",
              "      <td>0.0</td>\n",
              "      <td>0.0</td>\n",
              "      <td>0.0</td>\n",
              "      <td>0.0</td>\n",
              "      <td>0.0</td>\n",
              "      <td>0.0</td>\n",
              "      <td>0.0</td>\n",
              "      <td>0.0</td>\n",
              "      <td>0.0</td>\n",
              "      <td>0.0</td>\n",
              "      <td>0.078072</td>\n",
              "      <td>0.232634</td>\n",
              "      <td>1.131661</td>\n",
              "      <td>2.310396</td>\n",
              "      <td>3.121847</td>\n",
              "      <td>3.259128</td>\n",
              "      <td>4.992894</td>\n",
              "      <td>...</td>\n",
              "      <td>26.957829</td>\n",
              "      <td>22.879248</td>\n",
              "      <td>18.595109</td>\n",
              "      <td>14.434439</td>\n",
              "      <td>10.517823</td>\n",
              "      <td>6.469315</td>\n",
              "      <td>3.976306</td>\n",
              "      <td>1.846016</td>\n",
              "      <td>0.139556</td>\n",
              "      <td>0.287891</td>\n",
              "      <td>0.0</td>\n",
              "      <td>0.0</td>\n",
              "      <td>0.0</td>\n",
              "      <td>0.0</td>\n",
              "      <td>0.0</td>\n",
              "      <td>0.0</td>\n",
              "      <td>0.0</td>\n",
              "      <td>0.949803</td>\n",
              "      <td>2.350859</td>\n",
              "      <td>3.934280</td>\n",
              "      <td>4.543583</td>\n",
              "      <td>5.856772</td>\n",
              "      <td>7.219742</td>\n",
              "      <td>8.928286</td>\n",
              "      <td>10.004069</td>\n",
              "      <td>10.129595</td>\n",
              "      <td>11.254931</td>\n",
              "      <td>10.69603</td>\n",
              "      <td>9.480066</td>\n",
              "      <td>7.950251</td>\n",
              "      <td>6.312890</td>\n",
              "      <td>4.633819</td>\n",
              "      <td>3.274488</td>\n",
              "      <td>1.75987</td>\n",
              "      <td>1.894498</td>\n",
              "      <td>0.414264</td>\n",
              "      <td>0.0</td>\n",
              "      <td>0.0</td>\n",
              "      <td>0.0</td>\n",
              "      <td>0.0</td>\n",
              "    </tr>\n",
              "    <tr>\n",
              "      <th>min</th>\n",
              "      <td>0.000000</td>\n",
              "      <td>0.0</td>\n",
              "      <td>0.0</td>\n",
              "      <td>0.0</td>\n",
              "      <td>0.0</td>\n",
              "      <td>0.0</td>\n",
              "      <td>0.0</td>\n",
              "      <td>0.0</td>\n",
              "      <td>0.0</td>\n",
              "      <td>0.0</td>\n",
              "      <td>0.0</td>\n",
              "      <td>0.0</td>\n",
              "      <td>0.0</td>\n",
              "      <td>0.00000</td>\n",
              "      <td>0.000000</td>\n",
              "      <td>0.000000</td>\n",
              "      <td>0.000000</td>\n",
              "      <td>0.0</td>\n",
              "      <td>0.0</td>\n",
              "      <td>0.0</td>\n",
              "      <td>0.0</td>\n",
              "      <td>0.0</td>\n",
              "      <td>0.0</td>\n",
              "      <td>0.0</td>\n",
              "      <td>0.0</td>\n",
              "      <td>0.0</td>\n",
              "      <td>0.0</td>\n",
              "      <td>0.0</td>\n",
              "      <td>0.0</td>\n",
              "      <td>0.0</td>\n",
              "      <td>0.0</td>\n",
              "      <td>0.0</td>\n",
              "      <td>0.0</td>\n",
              "      <td>0.000000</td>\n",
              "      <td>0.000000</td>\n",
              "      <td>0.000000</td>\n",
              "      <td>0.000000</td>\n",
              "      <td>0.000000</td>\n",
              "      <td>0.000000</td>\n",
              "      <td>0.000000</td>\n",
              "      <td>...</td>\n",
              "      <td>0.000000</td>\n",
              "      <td>0.000000</td>\n",
              "      <td>0.000000</td>\n",
              "      <td>0.000000</td>\n",
              "      <td>0.000000</td>\n",
              "      <td>0.000000</td>\n",
              "      <td>0.000000</td>\n",
              "      <td>0.000000</td>\n",
              "      <td>0.000000</td>\n",
              "      <td>0.000000</td>\n",
              "      <td>0.0</td>\n",
              "      <td>0.0</td>\n",
              "      <td>0.0</td>\n",
              "      <td>0.0</td>\n",
              "      <td>0.0</td>\n",
              "      <td>0.0</td>\n",
              "      <td>0.0</td>\n",
              "      <td>0.000000</td>\n",
              "      <td>0.000000</td>\n",
              "      <td>0.000000</td>\n",
              "      <td>0.000000</td>\n",
              "      <td>0.000000</td>\n",
              "      <td>0.000000</td>\n",
              "      <td>0.000000</td>\n",
              "      <td>0.000000</td>\n",
              "      <td>0.000000</td>\n",
              "      <td>0.000000</td>\n",
              "      <td>0.00000</td>\n",
              "      <td>0.000000</td>\n",
              "      <td>0.000000</td>\n",
              "      <td>0.000000</td>\n",
              "      <td>0.000000</td>\n",
              "      <td>0.000000</td>\n",
              "      <td>0.00000</td>\n",
              "      <td>0.000000</td>\n",
              "      <td>0.000000</td>\n",
              "      <td>0.0</td>\n",
              "      <td>0.0</td>\n",
              "      <td>0.0</td>\n",
              "      <td>0.0</td>\n",
              "    </tr>\n",
              "    <tr>\n",
              "      <th>25%</th>\n",
              "      <td>2.000000</td>\n",
              "      <td>0.0</td>\n",
              "      <td>0.0</td>\n",
              "      <td>0.0</td>\n",
              "      <td>0.0</td>\n",
              "      <td>0.0</td>\n",
              "      <td>0.0</td>\n",
              "      <td>0.0</td>\n",
              "      <td>0.0</td>\n",
              "      <td>0.0</td>\n",
              "      <td>0.0</td>\n",
              "      <td>0.0</td>\n",
              "      <td>0.0</td>\n",
              "      <td>0.00000</td>\n",
              "      <td>0.000000</td>\n",
              "      <td>0.000000</td>\n",
              "      <td>0.000000</td>\n",
              "      <td>0.0</td>\n",
              "      <td>0.0</td>\n",
              "      <td>0.0</td>\n",
              "      <td>0.0</td>\n",
              "      <td>0.0</td>\n",
              "      <td>0.0</td>\n",
              "      <td>0.0</td>\n",
              "      <td>0.0</td>\n",
              "      <td>0.0</td>\n",
              "      <td>0.0</td>\n",
              "      <td>0.0</td>\n",
              "      <td>0.0</td>\n",
              "      <td>0.0</td>\n",
              "      <td>0.0</td>\n",
              "      <td>0.0</td>\n",
              "      <td>0.0</td>\n",
              "      <td>0.000000</td>\n",
              "      <td>0.000000</td>\n",
              "      <td>0.000000</td>\n",
              "      <td>0.000000</td>\n",
              "      <td>0.000000</td>\n",
              "      <td>0.000000</td>\n",
              "      <td>0.000000</td>\n",
              "      <td>...</td>\n",
              "      <td>0.000000</td>\n",
              "      <td>0.000000</td>\n",
              "      <td>0.000000</td>\n",
              "      <td>0.000000</td>\n",
              "      <td>0.000000</td>\n",
              "      <td>0.000000</td>\n",
              "      <td>0.000000</td>\n",
              "      <td>0.000000</td>\n",
              "      <td>0.000000</td>\n",
              "      <td>0.000000</td>\n",
              "      <td>0.0</td>\n",
              "      <td>0.0</td>\n",
              "      <td>0.0</td>\n",
              "      <td>0.0</td>\n",
              "      <td>0.0</td>\n",
              "      <td>0.0</td>\n",
              "      <td>0.0</td>\n",
              "      <td>0.000000</td>\n",
              "      <td>0.000000</td>\n",
              "      <td>0.000000</td>\n",
              "      <td>0.000000</td>\n",
              "      <td>0.000000</td>\n",
              "      <td>0.000000</td>\n",
              "      <td>0.000000</td>\n",
              "      <td>0.000000</td>\n",
              "      <td>0.000000</td>\n",
              "      <td>0.000000</td>\n",
              "      <td>0.00000</td>\n",
              "      <td>0.000000</td>\n",
              "      <td>0.000000</td>\n",
              "      <td>0.000000</td>\n",
              "      <td>0.000000</td>\n",
              "      <td>0.000000</td>\n",
              "      <td>0.00000</td>\n",
              "      <td>0.000000</td>\n",
              "      <td>0.000000</td>\n",
              "      <td>0.0</td>\n",
              "      <td>0.0</td>\n",
              "      <td>0.0</td>\n",
              "      <td>0.0</td>\n",
              "    </tr>\n",
              "    <tr>\n",
              "      <th>50%</th>\n",
              "      <td>4.000000</td>\n",
              "      <td>0.0</td>\n",
              "      <td>0.0</td>\n",
              "      <td>0.0</td>\n",
              "      <td>0.0</td>\n",
              "      <td>0.0</td>\n",
              "      <td>0.0</td>\n",
              "      <td>0.0</td>\n",
              "      <td>0.0</td>\n",
              "      <td>0.0</td>\n",
              "      <td>0.0</td>\n",
              "      <td>0.0</td>\n",
              "      <td>0.0</td>\n",
              "      <td>0.00000</td>\n",
              "      <td>0.000000</td>\n",
              "      <td>0.000000</td>\n",
              "      <td>0.000000</td>\n",
              "      <td>0.0</td>\n",
              "      <td>0.0</td>\n",
              "      <td>0.0</td>\n",
              "      <td>0.0</td>\n",
              "      <td>0.0</td>\n",
              "      <td>0.0</td>\n",
              "      <td>0.0</td>\n",
              "      <td>0.0</td>\n",
              "      <td>0.0</td>\n",
              "      <td>0.0</td>\n",
              "      <td>0.0</td>\n",
              "      <td>0.0</td>\n",
              "      <td>0.0</td>\n",
              "      <td>0.0</td>\n",
              "      <td>0.0</td>\n",
              "      <td>0.0</td>\n",
              "      <td>0.000000</td>\n",
              "      <td>0.000000</td>\n",
              "      <td>0.000000</td>\n",
              "      <td>0.000000</td>\n",
              "      <td>0.000000</td>\n",
              "      <td>0.000000</td>\n",
              "      <td>0.000000</td>\n",
              "      <td>...</td>\n",
              "      <td>0.000000</td>\n",
              "      <td>0.000000</td>\n",
              "      <td>0.000000</td>\n",
              "      <td>0.000000</td>\n",
              "      <td>0.000000</td>\n",
              "      <td>0.000000</td>\n",
              "      <td>0.000000</td>\n",
              "      <td>0.000000</td>\n",
              "      <td>0.000000</td>\n",
              "      <td>0.000000</td>\n",
              "      <td>0.0</td>\n",
              "      <td>0.0</td>\n",
              "      <td>0.0</td>\n",
              "      <td>0.0</td>\n",
              "      <td>0.0</td>\n",
              "      <td>0.0</td>\n",
              "      <td>0.0</td>\n",
              "      <td>0.000000</td>\n",
              "      <td>0.000000</td>\n",
              "      <td>0.000000</td>\n",
              "      <td>0.000000</td>\n",
              "      <td>0.000000</td>\n",
              "      <td>0.000000</td>\n",
              "      <td>0.000000</td>\n",
              "      <td>0.000000</td>\n",
              "      <td>0.000000</td>\n",
              "      <td>0.000000</td>\n",
              "      <td>0.00000</td>\n",
              "      <td>0.000000</td>\n",
              "      <td>0.000000</td>\n",
              "      <td>0.000000</td>\n",
              "      <td>0.000000</td>\n",
              "      <td>0.000000</td>\n",
              "      <td>0.00000</td>\n",
              "      <td>0.000000</td>\n",
              "      <td>0.000000</td>\n",
              "      <td>0.0</td>\n",
              "      <td>0.0</td>\n",
              "      <td>0.0</td>\n",
              "      <td>0.0</td>\n",
              "    </tr>\n",
              "    <tr>\n",
              "      <th>75%</th>\n",
              "      <td>7.000000</td>\n",
              "      <td>0.0</td>\n",
              "      <td>0.0</td>\n",
              "      <td>0.0</td>\n",
              "      <td>0.0</td>\n",
              "      <td>0.0</td>\n",
              "      <td>0.0</td>\n",
              "      <td>0.0</td>\n",
              "      <td>0.0</td>\n",
              "      <td>0.0</td>\n",
              "      <td>0.0</td>\n",
              "      <td>0.0</td>\n",
              "      <td>0.0</td>\n",
              "      <td>0.00000</td>\n",
              "      <td>0.000000</td>\n",
              "      <td>0.000000</td>\n",
              "      <td>0.000000</td>\n",
              "      <td>0.0</td>\n",
              "      <td>0.0</td>\n",
              "      <td>0.0</td>\n",
              "      <td>0.0</td>\n",
              "      <td>0.0</td>\n",
              "      <td>0.0</td>\n",
              "      <td>0.0</td>\n",
              "      <td>0.0</td>\n",
              "      <td>0.0</td>\n",
              "      <td>0.0</td>\n",
              "      <td>0.0</td>\n",
              "      <td>0.0</td>\n",
              "      <td>0.0</td>\n",
              "      <td>0.0</td>\n",
              "      <td>0.0</td>\n",
              "      <td>0.0</td>\n",
              "      <td>0.000000</td>\n",
              "      <td>0.000000</td>\n",
              "      <td>0.000000</td>\n",
              "      <td>0.000000</td>\n",
              "      <td>0.000000</td>\n",
              "      <td>0.000000</td>\n",
              "      <td>0.000000</td>\n",
              "      <td>...</td>\n",
              "      <td>0.000000</td>\n",
              "      <td>0.000000</td>\n",
              "      <td>0.000000</td>\n",
              "      <td>0.000000</td>\n",
              "      <td>0.000000</td>\n",
              "      <td>0.000000</td>\n",
              "      <td>0.000000</td>\n",
              "      <td>0.000000</td>\n",
              "      <td>0.000000</td>\n",
              "      <td>0.000000</td>\n",
              "      <td>0.0</td>\n",
              "      <td>0.0</td>\n",
              "      <td>0.0</td>\n",
              "      <td>0.0</td>\n",
              "      <td>0.0</td>\n",
              "      <td>0.0</td>\n",
              "      <td>0.0</td>\n",
              "      <td>0.000000</td>\n",
              "      <td>0.000000</td>\n",
              "      <td>0.000000</td>\n",
              "      <td>0.000000</td>\n",
              "      <td>0.000000</td>\n",
              "      <td>0.000000</td>\n",
              "      <td>0.000000</td>\n",
              "      <td>0.000000</td>\n",
              "      <td>0.000000</td>\n",
              "      <td>0.000000</td>\n",
              "      <td>0.00000</td>\n",
              "      <td>0.000000</td>\n",
              "      <td>0.000000</td>\n",
              "      <td>0.000000</td>\n",
              "      <td>0.000000</td>\n",
              "      <td>0.000000</td>\n",
              "      <td>0.00000</td>\n",
              "      <td>0.000000</td>\n",
              "      <td>0.000000</td>\n",
              "      <td>0.0</td>\n",
              "      <td>0.0</td>\n",
              "      <td>0.0</td>\n",
              "      <td>0.0</td>\n",
              "    </tr>\n",
              "    <tr>\n",
              "      <th>max</th>\n",
              "      <td>9.000000</td>\n",
              "      <td>0.0</td>\n",
              "      <td>0.0</td>\n",
              "      <td>0.0</td>\n",
              "      <td>0.0</td>\n",
              "      <td>0.0</td>\n",
              "      <td>0.0</td>\n",
              "      <td>0.0</td>\n",
              "      <td>0.0</td>\n",
              "      <td>0.0</td>\n",
              "      <td>0.0</td>\n",
              "      <td>0.0</td>\n",
              "      <td>0.0</td>\n",
              "      <td>116.00000</td>\n",
              "      <td>254.000000</td>\n",
              "      <td>216.000000</td>\n",
              "      <td>9.000000</td>\n",
              "      <td>0.0</td>\n",
              "      <td>0.0</td>\n",
              "      <td>0.0</td>\n",
              "      <td>0.0</td>\n",
              "      <td>0.0</td>\n",
              "      <td>0.0</td>\n",
              "      <td>0.0</td>\n",
              "      <td>0.0</td>\n",
              "      <td>0.0</td>\n",
              "      <td>0.0</td>\n",
              "      <td>0.0</td>\n",
              "      <td>0.0</td>\n",
              "      <td>0.0</td>\n",
              "      <td>0.0</td>\n",
              "      <td>0.0</td>\n",
              "      <td>0.0</td>\n",
              "      <td>16.000000</td>\n",
              "      <td>47.000000</td>\n",
              "      <td>157.000000</td>\n",
              "      <td>254.000000</td>\n",
              "      <td>255.000000</td>\n",
              "      <td>243.000000</td>\n",
              "      <td>255.000000</td>\n",
              "      <td>...</td>\n",
              "      <td>255.000000</td>\n",
              "      <td>255.000000</td>\n",
              "      <td>255.000000</td>\n",
              "      <td>255.000000</td>\n",
              "      <td>255.000000</td>\n",
              "      <td>255.000000</td>\n",
              "      <td>255.000000</td>\n",
              "      <td>253.000000</td>\n",
              "      <td>28.000000</td>\n",
              "      <td>59.000000</td>\n",
              "      <td>0.0</td>\n",
              "      <td>0.0</td>\n",
              "      <td>0.0</td>\n",
              "      <td>0.0</td>\n",
              "      <td>0.0</td>\n",
              "      <td>0.0</td>\n",
              "      <td>0.0</td>\n",
              "      <td>177.000000</td>\n",
              "      <td>231.000000</td>\n",
              "      <td>253.000000</td>\n",
              "      <td>254.000000</td>\n",
              "      <td>254.000000</td>\n",
              "      <td>255.000000</td>\n",
              "      <td>255.000000</td>\n",
              "      <td>255.000000</td>\n",
              "      <td>255.000000</td>\n",
              "      <td>255.000000</td>\n",
              "      <td>255.00000</td>\n",
              "      <td>255.000000</td>\n",
              "      <td>255.000000</td>\n",
              "      <td>254.000000</td>\n",
              "      <td>254.000000</td>\n",
              "      <td>253.000000</td>\n",
              "      <td>253.00000</td>\n",
              "      <td>254.000000</td>\n",
              "      <td>62.000000</td>\n",
              "      <td>0.0</td>\n",
              "      <td>0.0</td>\n",
              "      <td>0.0</td>\n",
              "      <td>0.0</td>\n",
              "    </tr>\n",
              "  </tbody>\n",
              "</table>\n",
              "<p>8 rows × 785 columns</p>\n",
              "</div>"
            ],
            "text/plain": [
              "              label   pixel0   pixel1  ...  pixel781  pixel782  pixel783\n",
              "count  42000.000000  42000.0  42000.0  ...   42000.0   42000.0   42000.0\n",
              "mean       4.456643      0.0      0.0  ...       0.0       0.0       0.0\n",
              "std        2.887730      0.0      0.0  ...       0.0       0.0       0.0\n",
              "min        0.000000      0.0      0.0  ...       0.0       0.0       0.0\n",
              "25%        2.000000      0.0      0.0  ...       0.0       0.0       0.0\n",
              "50%        4.000000      0.0      0.0  ...       0.0       0.0       0.0\n",
              "75%        7.000000      0.0      0.0  ...       0.0       0.0       0.0\n",
              "max        9.000000      0.0      0.0  ...       0.0       0.0       0.0\n",
              "\n",
              "[8 rows x 785 columns]"
            ]
          },
          "metadata": {
            "tags": []
          },
          "execution_count": 3
        }
      ]
    },
    {
      "cell_type": "code",
      "metadata": {
        "colab": {
          "base_uri": "https://localhost:8080/"
        },
        "id": "GhobKUKzroIu",
        "outputId": "72ad1842-13e9-448e-8502-a388c0db56fa"
      },
      "source": [
        "print(train.shape)\r\n",
        "print(test.shape)"
      ],
      "execution_count": 4,
      "outputs": [
        {
          "output_type": "stream",
          "text": [
            "(42000, 785)\n",
            "(28000, 784)\n"
          ],
          "name": "stdout"
        }
      ]
    },
    {
      "cell_type": "code",
      "metadata": {
        "colab": {
          "base_uri": "https://localhost:8080/"
        },
        "id": "EyrUTZ50r8Im",
        "outputId": "426e80fb-240c-467b-b079-111cb0c30077"
      },
      "source": [
        "sample_data = pd.read_csv('/content/drive/MyDrive/Colab Notebooks/Digit Recognizer/sample_submission.csv')\r\n",
        "print(train.info())\r\n",
        "print('\\n')\r\n",
        "print(test.info())\r\n",
        "print('\\n')\r\n",
        "print(sample_data.info())"
      ],
      "execution_count": 5,
      "outputs": [
        {
          "output_type": "stream",
          "text": [
            "<class 'pandas.core.frame.DataFrame'>\n",
            "RangeIndex: 42000 entries, 0 to 41999\n",
            "Columns: 785 entries, label to pixel783\n",
            "dtypes: int64(785)\n",
            "memory usage: 251.5 MB\n",
            "None\n",
            "\n",
            "\n",
            "<class 'pandas.core.frame.DataFrame'>\n",
            "RangeIndex: 28000 entries, 0 to 27999\n",
            "Columns: 784 entries, pixel0 to pixel783\n",
            "dtypes: int64(784)\n",
            "memory usage: 167.5 MB\n",
            "None\n",
            "\n",
            "\n",
            "<class 'pandas.core.frame.DataFrame'>\n",
            "RangeIndex: 28000 entries, 0 to 27999\n",
            "Data columns (total 2 columns):\n",
            " #   Column   Non-Null Count  Dtype\n",
            "---  ------   --------------  -----\n",
            " 0   ImageId  28000 non-null  int64\n",
            " 1   Label    28000 non-null  int64\n",
            "dtypes: int64(2)\n",
            "memory usage: 437.6 KB\n",
            "None\n"
          ],
          "name": "stdout"
        }
      ]
    },
    {
      "cell_type": "code",
      "metadata": {
        "colab": {
          "base_uri": "https://localhost:8080/"
        },
        "id": "SFyxAdAyscOf",
        "outputId": "834d644d-3e84-4f51-ddec-439cb55e60bb"
      },
      "source": [
        "#check null values in the train n test set\r\n",
        "train.isnull().sum().sum()"
      ],
      "execution_count": 6,
      "outputs": [
        {
          "output_type": "execute_result",
          "data": {
            "text/plain": [
              "0"
            ]
          },
          "metadata": {
            "tags": []
          },
          "execution_count": 6
        }
      ]
    },
    {
      "cell_type": "code",
      "metadata": {
        "colab": {
          "base_uri": "https://localhost:8080/"
        },
        "id": "HD1MTtCEs32d",
        "outputId": "023806ea-9f7e-4506-d57e-ee7b1357558b"
      },
      "source": [
        "test.isnull().sum().sum()"
      ],
      "execution_count": 7,
      "outputs": [
        {
          "output_type": "execute_result",
          "data": {
            "text/plain": [
              "0"
            ]
          },
          "metadata": {
            "tags": []
          },
          "execution_count": 7
        }
      ]
    },
    {
      "cell_type": "markdown",
      "metadata": {
        "id": "OP3k9UwYtEqs"
      },
      "source": [
        "**Data Visualization**"
      ]
    },
    {
      "cell_type": "code",
      "metadata": {
        "colab": {
          "base_uri": "https://localhost:8080/",
          "height": 260
        },
        "id": "TgJkLTnTs93R",
        "outputId": "bde4134c-6502-4318-c37b-7f8cd48cd8c5"
      },
      "source": [
        "#Visualizing input images\r\n",
        "df_tr =  df_train.iloc[:, 1:].values\r\n",
        "yt = df_train.iloc[:,0].values\r\n",
        "img1 = df_tr.reshape(df_tr.shape[0], 28, 28)\r\n",
        "#plt.figure(figsize=(20,8))\r\n",
        "for i in range(10, 18):\r\n",
        "  plt.subplot(231 + (i))\r\n",
        "  plt.imshow(img1[i], cmap='gray')\r\n",
        "  plt.title('Label:' + str(yt[i]), fontweight = 'bold', size=20)\r\n",
        "  "
      ],
      "execution_count": 8,
      "outputs": [
        {
          "output_type": "display_data",
          "data": {
            "image/png": "[encoded data removed]",
            "text/plain": [
              "<Figure size 432x288 with 8 Axes>"
            ]
          },
          "metadata": {
            "tags": [],
            "needs_background": "light"
          }
        }
      ]
    },
    {
      "cell_type": "markdown",
      "metadata": {
        "id": "xuN5VEH_tC30"
      },
      "source": [
        "**Data Preprocessing**"
      ]
    },
    {
      "cell_type": "code",
      "metadata": {
        "id": "x-Mm4VnSysyy"
      },
      "source": [
        "#setting seeds for reproducibility\r\n",
        "seed = 3141\r\n",
        "np.random.seed(seed)"
      ],
      "execution_count": 9,
      "outputs": []
    },
    {
      "cell_type": "markdown",
      "metadata": {
        "id": "cMcC3W5r-Arb"
      },
      "source": [
        "Splitting train and test data"
      ]
    },
    {
      "cell_type": "code",
      "metadata": {
        "id": "OiDdlCMF9ey4"
      },
      "source": [
        "# x= pixels & y= image labels\r\n",
        "X = train.iloc[:, 1:]\r\n",
        "Y = train.iloc[:, 0]\r\n",
        "\r\n",
        "#splitting dataframe using train test split\r\n",
        "x_train, x_test, y_train, y_test = train_test_split(X, Y, test_size=0.1, random_state= seed)\r\n"
      ],
      "execution_count": 10,
      "outputs": []
    },
    {
      "cell_type": "markdown",
      "metadata": {
        "id": "XK4dxlas-0uI"
      },
      "source": [
        "**Reshaping Images**\r\n",
        "--> we have a 1D vector of 784px so gotta reshape it to (28x28x1) bfor passing it  to CNN. cuz keras wants extra dimension in the end for channels. in RGB images there would have been 3 channels but as MNIST is gray scale it uses only 1 ."
      ]
    },
    {
      "cell_type": "code",
      "metadata": {
        "id": "vDdXgwTo-CPB"
      },
      "source": [
        "x_train = x_train.values.reshape(-1,28,28,1)\r\n",
        "x_test = x_test.values.reshape(-1,28,28,1)\r\n",
        "df_test = df_test.values.reshape(-1,28,28,1)"
      ],
      "execution_count": 11,
      "outputs": []
    },
    {
      "cell_type": "markdown",
      "metadata": {
        "id": "1EhOYhGTAH66"
      },
      "source": [
        "**Data Augmentation**"
      ]
    },
    {
      "cell_type": "markdown",
      "metadata": {
        "id": "0xhgeB5_AP-t"
      },
      "source": [
        "In terms of images , it means we can increases the no. of images our model sees.\r\n",
        "Very Imp process. It can achived by rotating the image, flipping the image, zooming, changing light condition, cropping it , etc. (depends on the dataset; eg- here vertical flip is no useful since 6's 'll bcom 9 & vice-versa)"
      ]
    },
    {
      "cell_type": "code",
      "metadata": {
        "id": "liYC8DZY_qkB"
      },
      "source": [
        "datagen = ImageDataGenerator(featurewise_center=False,#set input mean to 0 over the dataset\r\n",
        "                             samplewise_center=False,#set each sample mean to 0\r\n",
        "                             featurewise_std_normalization= False,#divide inputs by std of the dataset\r\n",
        "                             samplewise_std_normalization= False,#divide each input by its std\r\n",
        "                             zca_whitening= False,#apply ZCA whitening\r\n",
        "                             rotation_range=10,#randomly rotate the imgs in range(deg 0->10)\r\n",
        "                             zoom_range= 0.1,#randomly zoom img\r\n",
        "                             width_shift_range= 0.1,#randomly shift img horizontaly ; fraction of total width\r\n",
        "                             height_shift_range= 0.1,#randomly shift img vertically; factn of total height\r\n",
        "                             horizontal_flip= False,#randomly flip img\r\n",
        "                             vertical_flip= False)"
      ],
      "execution_count": 12,
      "outputs": []
    },
    {
      "cell_type": "markdown",
      "metadata": {
        "id": "ZfVX4kdyEFfN"
      },
      "source": [
        "**Normalization**"
      ]
    },
    {
      "cell_type": "markdown",
      "metadata": {
        "id": "hH8f8uMgEJ83"
      },
      "source": [
        "Pixel values are often stores as integers in the range 0 to 255, which is the range that int-8 can offer. Normalization:\r\n",
        "(1) sets the value of inputs btw 0-1\r\n",
        "(2)helps gradient descent coverange much faster\r\n",
        "(3) bring features ot equal levels and weightage\r\n",
        "(4) helps remove distortians in an img caused by light and shadows."
      ]
    },
    {
      "cell_type": "code",
      "metadata": {
        "id": "tHrFO3HMED1_"
      },
      "source": [
        "#convert values to float as result is float. if not done vals are set to 0\r\n",
        "x_train = x_train.astype(\"float32\")/255\r\n",
        "x_test = x_test.astype(\"float32\")/255\r\n",
        "df_test = df_test.astype(\"float32\")/255 "
      ],
      "execution_count": 13,
      "outputs": []
    },
    {
      "cell_type": "code",
      "metadata": {
        "id": "601JgsTwEJH4"
      },
      "source": [
        "#fitting the Imgdatagenerator defined above\r\n",
        "datagen.fit(x_train)"
      ],
      "execution_count": 14,
      "outputs": []
    },
    {
      "cell_type": "markdown",
      "metadata": {
        "id": "xZDeQFzfM1Kn"
      },
      "source": [
        "**One hot encoding labels**"
      ]
    },
    {
      "cell_type": "markdown",
      "metadata": {
        "id": "qh8eQ09KVvCf"
      },
      "source": [
        "since the labels are given bwtn 0-9. We need to one encode them. this is done so that we can have labels for all the classes, n we can easily carry out the error/cost dusing back propagation."
      ]
    },
    {
      "cell_type": "code",
      "metadata": {
        "colab": {
          "base_uri": "https://localhost:8080/"
        },
        "id": "zKJiA4j-Mw6X",
        "outputId": "d5d0e46c-f457-4ed4-ac7b-eb778cbf8251"
      },
      "source": [
        "#num_class = 10 since no of diff labels=10\r\n",
        "y_train= to_categorical(y_train, num_classes=10)\r\n",
        "y_test= to_categorical(y_test, num_classes=10)\r\n",
        "\r\n",
        "print(y_train[0])"
      ],
      "execution_count": 15,
      "outputs": [
        {
          "output_type": "stream",
          "text": [
            "[0. 0. 1. 0. 0. 0. 0. 0. 0. 0.]\n"
          ],
          "name": "stdout"
        }
      ]
    },
    {
      "cell_type": "markdown",
      "metadata": {
        "id": "CdJXSO_D-BNK"
      },
      "source": [
        "**Building and training the model**"
      ]
    },
    {
      "cell_type": "markdown",
      "metadata": {
        "id": "PLqA3ji5Wkoz"
      },
      "source": [
        "**a)Building CNN Model**"
      ]
    },
    {
      "cell_type": "markdown",
      "metadata": {
        "id": "Mmdn8X_HYRDl"
      },
      "source": [
        "Steps:(1)sequential keras API \r\n",
        "(2)Add convolutional layers-building blocks of ConvNets and what do the heavy computaiton\r\n",
        "(3)Add Pooling Layers-> setps along img- reduces params n decreases likelihood of overfitting\r\n",
        "(4)Add batch normalization -> sccales down outliers n forces NN to not relaying too much on a perticular wt.\r\n",
        "(5)Add Dropout layer-> regularization technique that randinky drops a percentage of neurons to avoid overfitting(20-50%)\r\n",
        "(6)Add Flatten Layer-> flattens the input as 1D vector\r\n",
        "(7)Add output layer-> units equals no of classes\r\n",
        "(8)Add Dense layer-> fully connected layer which performs a linear opration on layer's input"
      ]
    },
    {
      "cell_type": "code",
      "metadata": {
        "id": "ZUOpq4-kWh1c"
      },
      "source": [
        "model= Sequential()\r\n",
        "model.add(Conv2D(filters=32, kernel_size=(3,3), activation='relu', strides=1,\r\n",
        "                 padding='same', data_format='channels_last', input_shape=(28,28,1)))\r\n",
        "model.add(BatchNormalization())\r\n",
        "model.add(Conv2D(filters=32, kernel_size=(3,3), activation='relu', strides=1, padding='same',\r\n",
        "                 data_format='channels_last'))\r\n",
        "model.add(BatchNormalization())\r\n",
        "model.add(MaxPooling2D(pool_size=(2,2), strides=2, padding='valid'))\r\n",
        "model.add(Dropout(0.25))\r\n",
        "model.add(Conv2D(filters=64, kernel_size=(3,3), activation='relu', strides=1, padding='same',\r\n",
        "                 data_format='channels_last'))\r\n",
        "model.add(BatchNormalization())\r\n",
        "model.add(Conv2D(filters=64, kernel_size=(3,3), activation='relu', strides=1, padding='same',\r\n",
        "                 data_format='channels_last'))\r\n",
        "model.add(BatchNormalization())\r\n",
        "model.add(MaxPooling2D(pool_size=(2,2), strides=2, padding='valid'))\r\n",
        "model.add(Dropout(0.25))\r\n",
        "\r\n",
        "\r\n",
        "model.add(Flatten())\r\n",
        "model.add(Dense(512, activation='relu'))\r\n",
        "model.add(BatchNormalization())\r\n",
        "model.add(Dropout(0.25))\r\n",
        "model.add(Dense(1024, activation='relu'))\r\n",
        "model.add(BatchNormalization())\r\n",
        "model.add(Dropout(0.5))\r\n",
        "model.add(Dense(10, activation='softmax'))"
      ],
      "execution_count": 16,
      "outputs": []
    },
    {
      "cell_type": "markdown",
      "metadata": {
        "id": "OQrFrwct3jL9"
      },
      "source": [
        "**b)Compiling Model-> configure the learning process**"
      ]
    },
    {
      "cell_type": "markdown",
      "metadata": {
        "id": "4W0woAe84B0A"
      },
      "source": [
        "\r\n",
        "\r\n",
        "\r\n",
        "\r\n",
        "1.   Specify the Optimizer - The optimizer help us minimize the error function. Examples - RMSprop, Adam, AdaGrad, AdaDelta\r\n",
        "2.   Specify Loss Function - For Binary Classification use \"binary_crossentropy\" and for Multi-class Classification use \"categorical_crossentropy\"\r\n",
        "3. Specify the metrics to evaluate model performance\r\n",
        "\r\n",
        "\r\n",
        "\r\n",
        "\r\n"
      ]
    },
    {
      "cell_type": "code",
      "metadata": {
        "id": "r-XaK3133h7K"
      },
      "source": [
        "#optimizer\r\n",
        "optimizer = Adam(learning_rate=0.001, beta_1=0.9, beta_2=0.99)\r\n"
      ],
      "execution_count": 17,
      "outputs": []
    },
    {
      "cell_type": "code",
      "metadata": {
        "id": "5eMoEbP14Rzl"
      },
      "source": [
        "#compile the model\r\n",
        "model.compile(optimizer=optimizer, loss='categorical_crossentropy', metrics=[\"accuracy\"])"
      ],
      "execution_count": 18,
      "outputs": []
    },
    {
      "cell_type": "code",
      "metadata": {
        "colab": {
          "base_uri": "https://localhost:8080/"
        },
        "id": "FgDzdW7k42SB",
        "outputId": "7906eed6-6a11-45ec-82b9-7a50903beaf6"
      },
      "source": [
        "model.summary()"
      ],
      "execution_count": 19,
      "outputs": [
        {
          "output_type": "stream",
          "text": [
            "Model: \"sequential\"\n",
            "_________________________________________________________________\n",
            "Layer (type)                 Output Shape              Param #   \n",
            "=================================================================\n",
            "conv2d (Conv2D)              (None, 28, 28, 32)        320       \n",
            "_________________________________________________________________\n",
            "batch_normalization (BatchNo (None, 28, 28, 32)        128       \n",
            "_________________________________________________________________\n",
            "conv2d_1 (Conv2D)            (None, 28, 28, 32)        9248      \n",
            "_________________________________________________________________\n",
            "batch_normalization_1 (Batch (None, 28, 28, 32)        128       \n",
            "_________________________________________________________________\n",
            "max_pooling2d (MaxPooling2D) (None, 14, 14, 32)        0         \n",
            "_________________________________________________________________\n",
            "dropout (Dropout)            (None, 14, 14, 32)        0         \n",
            "_________________________________________________________________\n",
            "conv2d_2 (Conv2D)            (None, 14, 14, 64)        18496     \n",
            "_________________________________________________________________\n",
            "batch_normalization_2 (Batch (None, 14, 14, 64)        256       \n",
            "_________________________________________________________________\n",
            "conv2d_3 (Conv2D)            (None, 14, 14, 64)        36928     \n",
            "_________________________________________________________________\n",
            "batch_normalization_3 (Batch (None, 14, 14, 64)        256       \n",
            "_________________________________________________________________\n",
            "max_pooling2d_1 (MaxPooling2 (None, 7, 7, 64)          0         \n",
            "_________________________________________________________________\n",
            "dropout_1 (Dropout)          (None, 7, 7, 64)          0         \n",
            "_________________________________________________________________\n",
            "flatten (Flatten)            (None, 3136)              0         \n",
            "_________________________________________________________________\n",
            "dense (Dense)                (None, 512)               1606144   \n",
            "_________________________________________________________________\n",
            "batch_normalization_4 (Batch (None, 512)               2048      \n",
            "_________________________________________________________________\n",
            "dropout_2 (Dropout)          (None, 512)               0         \n",
            "_________________________________________________________________\n",
            "dense_1 (Dense)              (None, 1024)              525312    \n",
            "_________________________________________________________________\n",
            "batch_normalization_5 (Batch (None, 1024)              4096      \n",
            "_________________________________________________________________\n",
            "dropout_3 (Dropout)          (None, 1024)              0         \n",
            "_________________________________________________________________\n",
            "dense_2 (Dense)              (None, 10)                10250     \n",
            "=================================================================\n",
            "Total params: 2,213,610\n",
            "Trainable params: 2,210,154\n",
            "Non-trainable params: 3,456\n",
            "_________________________________________________________________\n"
          ],
          "name": "stdout"
        }
      ]
    },
    {
      "cell_type": "markdown",
      "metadata": {
        "id": "KDia8BOi5Col"
      },
      "source": [
        "**Optimizing Learning Rate Decay** \r\n",
        "-> use LearningRateScheduler or ReduceLRonPlateau"
      ]
    },
    {
      "cell_type": "code",
      "metadata": {
        "id": "B4NWar1i46mz"
      },
      "source": [
        "#LearningRatescheduler\r\n",
        "reduce_lr = LearningRateScheduler(lambda x: 1e-3 * 0.9 **x)"
      ],
      "execution_count": 20,
      "outputs": []
    },
    {
      "cell_type": "code",
      "metadata": {
        "colab": {
          "base_uri": "https://localhost:8080/"
        },
        "id": "lzcDFepa5WMV",
        "outputId": "f15574ac-ae1a-4e10-e260-e03ad1b06226"
      },
      "source": [
        "decays = [(lambda x: 1e-3 * 0.9 ** x)(x) for x in range(10)]\r\n",
        "i=1\r\n",
        "for lr in decays:\r\n",
        "  print(\"epoch \" + str(i) + \" learning Rate:\" + str(lr))\r\n",
        "  i+=1"
      ],
      "execution_count": 21,
      "outputs": [
        {
          "output_type": "stream",
          "text": [
            "epoch 1 learning Rate:0.001\n",
            "epoch 2 learning Rate:0.0009000000000000001\n",
            "epoch 3 learning Rate:0.0008100000000000001\n",
            "epoch 4 learning Rate:0.0007290000000000002\n",
            "epoch 5 learning Rate:0.0006561000000000001\n",
            "epoch 6 learning Rate:0.00059049\n",
            "epoch 7 learning Rate:0.000531441\n",
            "epoch 8 learning Rate:0.0004782969000000001\n",
            "epoch 9 learning Rate:0.0004304672100000001\n",
            "epoch 10 learning Rate:0.0003874204890000001\n"
          ],
          "name": "stdout"
        }
      ]
    },
    {
      "cell_type": "markdown",
      "metadata": {
        "id": "kPg3RfxoQKkY"
      },
      "source": [
        "**Early Stopping Rounds**"
      ]
    },
    {
      "cell_type": "markdown",
      "metadata": {
        "id": "FkZzQlH0QdwJ"
      },
      "source": [
        "to define  a early stopping parameter to ensure that the model stops training once i have reached a point where it is no longer necessary to continue traing.            Another way to control overfitting."
      ]
    },
    {
      "cell_type": "code",
      "metadata": {
        "id": "mVtuec8W_D9u"
      },
      "source": [
        "#by default its evaluted on 'val_loss'\r\n",
        "early_stopping = EarlyStopping(min_delta=0.001, #min amt of change to count as imporvement\r\n",
        "                               patience=20,#no of epoch to wait bfore stopping\r\n",
        "                               restore_best_weights=True,\r\n",
        "                               )"
      ],
      "execution_count": 23,
      "outputs": []
    },
    {
      "cell_type": "markdown",
      "metadata": {
        "id": "Kp-uu_xwSDbP"
      },
      "source": [
        " **Fitting the model**"
      ]
    },
    {
      "cell_type": "code",
      "metadata": {
        "id": "p3BPnY8uQT8d"
      },
      "source": [
        "#prior declaration for ease in debug and readability\r\n",
        "batch_size=64\r\n",
        "epochs= 30"
      ],
      "execution_count": 24,
      "outputs": []
    },
    {
      "cell_type": "code",
      "metadata": {
        "colab": {
          "base_uri": "https://localhost:8080/"
        },
        "id": "5Bsd5oDySIpv",
        "outputId": "862c3d9f-81ac-4d31-8804-0d9aa0e52502"
      },
      "source": [
        "history= model.fit_generator(datagen.flow(x_train, y_train, batch_size=batch_size),\r\n",
        "                             epochs=epochs, \r\n",
        "                             validation_data=(x_test, y_test), verbose=1,\r\n",
        "                             steps_per_epoch= x_train.shape[0]//batch_size,\r\n",
        "                             callbacks= [reduce_lr]#leftout early_stopping param as it gets better accuracy \r\n",
        "                              )"
      ],
      "execution_count": 25,
      "outputs": [
        {
          "output_type": "stream",
          "text": [
            "Epoch 1/30\n",
            "590/590 [==============================] - 21s 22ms/step - loss: 0.7564 - accuracy: 0.7843 - val_loss: 0.1201 - val_accuracy: 0.9652\n",
            "Epoch 2/30\n",
            "590/590 [==============================] - 13s 21ms/step - loss: 0.1453 - accuracy: 0.9557 - val_loss: 0.0718 - val_accuracy: 0.9779\n",
            "Epoch 3/30\n",
            "590/590 [==============================] - 13s 22ms/step - loss: 0.1064 - accuracy: 0.9693 - val_loss: 0.0567 - val_accuracy: 0.9852\n",
            "Epoch 4/30\n",
            "590/590 [==============================] - 12s 21ms/step - loss: 0.0793 - accuracy: 0.9773 - val_loss: 0.0365 - val_accuracy: 0.9902\n",
            "Epoch 5/30\n",
            "590/590 [==============================] - 12s 21ms/step - loss: 0.0701 - accuracy: 0.9798 - val_loss: 0.0331 - val_accuracy: 0.9902\n",
            "Epoch 6/30\n",
            "590/590 [==============================] - 12s 21ms/step - loss: 0.0573 - accuracy: 0.9824 - val_loss: 0.0285 - val_accuracy: 0.9929\n",
            "Epoch 7/30\n",
            "590/590 [==============================] - 12s 21ms/step - loss: 0.0513 - accuracy: 0.9841 - val_loss: 0.0263 - val_accuracy: 0.9917\n",
            "Epoch 8/30\n",
            "590/590 [==============================] - 13s 22ms/step - loss: 0.0447 - accuracy: 0.9867 - val_loss: 0.0351 - val_accuracy: 0.9890\n",
            "Epoch 9/30\n",
            "590/590 [==============================] - 13s 22ms/step - loss: 0.0473 - accuracy: 0.9853 - val_loss: 0.0233 - val_accuracy: 0.9933\n",
            "Epoch 10/30\n",
            "590/590 [==============================] - 13s 21ms/step - loss: 0.0356 - accuracy: 0.9888 - val_loss: 0.0227 - val_accuracy: 0.9931\n",
            "Epoch 11/30\n",
            "590/590 [==============================] - 12s 21ms/step - loss: 0.0364 - accuracy: 0.9896 - val_loss: 0.0214 - val_accuracy: 0.9931\n",
            "Epoch 12/30\n",
            "590/590 [==============================] - 12s 21ms/step - loss: 0.0287 - accuracy: 0.9916 - val_loss: 0.0175 - val_accuracy: 0.9948\n",
            "Epoch 13/30\n",
            "590/590 [==============================] - 13s 21ms/step - loss: 0.0281 - accuracy: 0.9913 - val_loss: 0.0183 - val_accuracy: 0.9945\n",
            "Epoch 14/30\n",
            "590/590 [==============================] - 13s 22ms/step - loss: 0.0298 - accuracy: 0.9913 - val_loss: 0.0187 - val_accuracy: 0.9945\n",
            "Epoch 15/30\n",
            "590/590 [==============================] - 13s 21ms/step - loss: 0.0283 - accuracy: 0.9916 - val_loss: 0.0175 - val_accuracy: 0.9945\n",
            "Epoch 16/30\n",
            "590/590 [==============================] - 13s 21ms/step - loss: 0.0260 - accuracy: 0.9923 - val_loss: 0.0151 - val_accuracy: 0.9960\n",
            "Epoch 17/30\n",
            "590/590 [==============================] - 13s 21ms/step - loss: 0.0232 - accuracy: 0.9930 - val_loss: 0.0162 - val_accuracy: 0.9955\n",
            "Epoch 18/30\n",
            "590/590 [==============================] - 13s 21ms/step - loss: 0.0224 - accuracy: 0.9930 - val_loss: 0.0152 - val_accuracy: 0.9955\n",
            "Epoch 19/30\n",
            "590/590 [==============================] - 13s 21ms/step - loss: 0.0201 - accuracy: 0.9937 - val_loss: 0.0163 - val_accuracy: 0.9957\n",
            "Epoch 20/30\n",
            "590/590 [==============================] - 12s 21ms/step - loss: 0.0217 - accuracy: 0.9932 - val_loss: 0.0174 - val_accuracy: 0.9957\n",
            "Epoch 21/30\n",
            "590/590 [==============================] - 13s 21ms/step - loss: 0.0206 - accuracy: 0.9939 - val_loss: 0.0188 - val_accuracy: 0.9957\n",
            "Epoch 22/30\n",
            "590/590 [==============================] - 13s 21ms/step - loss: 0.0191 - accuracy: 0.9941 - val_loss: 0.0160 - val_accuracy: 0.9950\n",
            "Epoch 23/30\n",
            "590/590 [==============================] - 13s 21ms/step - loss: 0.0188 - accuracy: 0.9943 - val_loss: 0.0156 - val_accuracy: 0.9957\n",
            "Epoch 24/30\n",
            "590/590 [==============================] - 13s 21ms/step - loss: 0.0179 - accuracy: 0.9945 - val_loss: 0.0142 - val_accuracy: 0.9957\n",
            "Epoch 25/30\n",
            "590/590 [==============================] - 13s 22ms/step - loss: 0.0149 - accuracy: 0.9950 - val_loss: 0.0160 - val_accuracy: 0.9962\n",
            "Epoch 26/30\n",
            "590/590 [==============================] - 13s 21ms/step - loss: 0.0151 - accuracy: 0.9952 - val_loss: 0.0149 - val_accuracy: 0.9967\n",
            "Epoch 27/30\n",
            "590/590 [==============================] - 13s 21ms/step - loss: 0.0140 - accuracy: 0.9954 - val_loss: 0.0145 - val_accuracy: 0.9957\n",
            "Epoch 28/30\n",
            "590/590 [==============================] - 13s 21ms/step - loss: 0.0152 - accuracy: 0.9947 - val_loss: 0.0149 - val_accuracy: 0.9960\n",
            "Epoch 29/30\n",
            "590/590 [==============================] - 12s 21ms/step - loss: 0.0168 - accuracy: 0.9949 - val_loss: 0.0148 - val_accuracy: 0.9960\n",
            "Epoch 30/30\n",
            "590/590 [==============================] - 12s 21ms/step - loss: 0.0153 - accuracy: 0.9953 - val_loss: 0.0160 - val_accuracy: 0.9955\n"
          ],
          "name": "stdout"
        }
      ]
    },
    {
      "cell_type": "code",
      "metadata": {
        "colab": {
          "base_uri": "https://localhost:8080/",
          "height": 285
        },
        "id": "N2NJOYfm1dwO",
        "outputId": "ab9a5e46-3bdd-4cd3-e171-213e47caef6e"
      },
      "source": [
        "plt.figure(figsize=(13,5))\r\n",
        "plt.plot(history.history['loss'])\r\n",
        "plt.plot(history.history['val_loss'])\r\n",
        "plt.title(\"Model Loss\")\r\n",
        "plt.xlabel('Epochs')\r\n",
        "plt.ylabel('Loss')\r\n",
        "plt.legend(['Train', 'Test'])\r\n",
        "plt.grid()\r\n",
        "plt.show()"
      ],
      "execution_count": 27,
      "outputs": [
        {
          "output_type": "display_data",
          "data": {
            "image/png": "[encoded data removed]",
            "text/plain": [
              "<Figure size 936x360 with 1 Axes>"
            ]
          },
          "metadata": {
            "tags": [],
            "needs_background": "light"
          }
        }
      ]
    },
    {
      "cell_type": "code",
      "metadata": {
        "colab": {
          "base_uri": "https://localhost:8080/",
          "height": 349
        },
        "id": "kG6bOO9jTYlY",
        "outputId": "33b95ef4-9268-4782-9fe9-b6e188d29583"
      },
      "source": [
        "plt.figure(figsize=(13,5))\r\n",
        "plt.plot(history.history['accuracy'])\r\n",
        "plt.plot(history.history['val_accuracy'])\r\n",
        "plt.title(\"Model Acuracy\")\r\n",
        "plt.xlabel('Epochs')\r\n",
        "plt.ylabel('Accuracy')\r\n",
        "plt.legend(['Train', 'Test'])\r\n",
        "plt.grid()\r\n",
        "plt.show()"
      ],
      "execution_count": 29,
      "outputs": [
        {
          "output_type": "display_data",
          "data": {
            "image/png": "[encoded data removed]",
            "text/plain": [
              "<Figure size 936x360 with 1 Axes>"
            ]
          },
          "metadata": {
            "tags": [],
            "needs_background": "light"
          }
        }
      ]
    },
    {
      "cell_type": "markdown",
      "metadata": {
        "id": "fPlEDrtp3Vu6"
      },
      "source": [
        "**Output prediction** to csv file"
      ]
    },
    {
      "cell_type": "code",
      "metadata": {
        "id": "tyNSjXvC3d4J"
      },
      "source": [
        "pred_digit = np.argmax(model.predict(df_test), axis=1)\r\n",
        "img_test=[]\r\n",
        "for i in range(len(pred_digit)):\r\n",
        "  img_test.append(i+1)\r\n",
        "\r\n",
        "d= {'ImageId': img_test, 'Label': pred_digit}\r\n",
        "ans=pd.DataFrame(d)\r\n",
        "\r\n",
        "ans.to_csv('/content/drive/MyDrive/Colab Notebooks/Digit Recognizer/output pred.csv', index=False)"
      ],
      "execution_count": 30,
      "outputs": []
    }
  ]
}